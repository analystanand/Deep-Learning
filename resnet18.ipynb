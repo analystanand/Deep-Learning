{
  "nbformat": 4,
  "nbformat_minor": 0,
  "metadata": {
    "colab": {
      "name": "resnet18.ipynb",
      "provenance": [],
      "authorship_tag": "ABX9TyPO97fj2Ky5e2pTtu/BFovQ",
      "include_colab_link": true
    },
    "kernelspec": {
      "name": "python3",
      "display_name": "Python 3"
    },
    "accelerator": "GPU",
    "widgets": {
      "application/vnd.jupyter.widget-state+json": {
        "fe632f00390a4cbfa97959354f0197f6": {
          "model_module": "@jupyter-widgets/controls",
          "model_name": "HBoxModel",
          "state": {
            "_view_name": "HBoxView",
            "_dom_classes": [],
            "_model_name": "HBoxModel",
            "_view_module": "@jupyter-widgets/controls",
            "_model_module_version": "1.5.0",
            "_view_count": null,
            "_view_module_version": "1.5.0",
            "box_style": "",
            "layout": "IPY_MODEL_369e193bf1b549898b55d17fccf01ead",
            "_model_module": "@jupyter-widgets/controls",
            "children": [
              "IPY_MODEL_8206743b6ff848858369afbcb40f12b9",
              "IPY_MODEL_364a9babac6e478f99a24bfc1125ac34"
            ]
          }
        },
        "369e193bf1b549898b55d17fccf01ead": {
          "model_module": "@jupyter-widgets/base",
          "model_name": "LayoutModel",
          "state": {
            "_view_name": "LayoutView",
            "grid_template_rows": null,
            "right": null,
            "justify_content": null,
            "_view_module": "@jupyter-widgets/base",
            "overflow": null,
            "_model_module_version": "1.2.0",
            "_view_count": null,
            "flex_flow": null,
            "width": null,
            "min_width": null,
            "border": null,
            "align_items": null,
            "bottom": null,
            "_model_module": "@jupyter-widgets/base",
            "top": null,
            "grid_column": null,
            "overflow_y": null,
            "overflow_x": null,
            "grid_auto_flow": null,
            "grid_area": null,
            "grid_template_columns": null,
            "flex": null,
            "_model_name": "LayoutModel",
            "justify_items": null,
            "grid_row": null,
            "max_height": null,
            "align_content": null,
            "visibility": null,
            "align_self": null,
            "height": null,
            "min_height": null,
            "padding": null,
            "grid_auto_rows": null,
            "grid_gap": null,
            "max_width": null,
            "order": null,
            "_view_module_version": "1.2.0",
            "grid_template_areas": null,
            "object_position": null,
            "object_fit": null,
            "grid_auto_columns": null,
            "margin": null,
            "display": null,
            "left": null
          }
        },
        "8206743b6ff848858369afbcb40f12b9": {
          "model_module": "@jupyter-widgets/controls",
          "model_name": "IntProgressModel",
          "state": {
            "_view_name": "ProgressView",
            "style": "IPY_MODEL_7233fa6215b145a0a6d6223992eb2716",
            "_dom_classes": [],
            "description": "",
            "_model_name": "IntProgressModel",
            "bar_style": "info",
            "max": 1,
            "_view_module": "@jupyter-widgets/controls",
            "_model_module_version": "1.5.0",
            "value": 1,
            "_view_count": null,
            "_view_module_version": "1.5.0",
            "orientation": "horizontal",
            "min": 0,
            "description_tooltip": null,
            "_model_module": "@jupyter-widgets/controls",
            "layout": "IPY_MODEL_19ff5573217342cd8c6daf7f01db735b"
          }
        },
        "364a9babac6e478f99a24bfc1125ac34": {
          "model_module": "@jupyter-widgets/controls",
          "model_name": "HTMLModel",
          "state": {
            "_view_name": "HTMLView",
            "style": "IPY_MODEL_926bab0b703c405ba23b433be134753f",
            "_dom_classes": [],
            "description": "",
            "_model_name": "HTMLModel",
            "placeholder": "​",
            "_view_module": "@jupyter-widgets/controls",
            "_model_module_version": "1.5.0",
            "value": " 170500096/? [00:30&lt;00:00, 16383229.56it/s]",
            "_view_count": null,
            "_view_module_version": "1.5.0",
            "description_tooltip": null,
            "_model_module": "@jupyter-widgets/controls",
            "layout": "IPY_MODEL_b14bf659096d42cfa5085a0a41c7ba3d"
          }
        },
        "7233fa6215b145a0a6d6223992eb2716": {
          "model_module": "@jupyter-widgets/controls",
          "model_name": "ProgressStyleModel",
          "state": {
            "_view_name": "StyleView",
            "_model_name": "ProgressStyleModel",
            "description_width": "initial",
            "_view_module": "@jupyter-widgets/base",
            "_model_module_version": "1.5.0",
            "_view_count": null,
            "_view_module_version": "1.2.0",
            "bar_color": null,
            "_model_module": "@jupyter-widgets/controls"
          }
        },
        "19ff5573217342cd8c6daf7f01db735b": {
          "model_module": "@jupyter-widgets/base",
          "model_name": "LayoutModel",
          "state": {
            "_view_name": "LayoutView",
            "grid_template_rows": null,
            "right": null,
            "justify_content": null,
            "_view_module": "@jupyter-widgets/base",
            "overflow": null,
            "_model_module_version": "1.2.0",
            "_view_count": null,
            "flex_flow": null,
            "width": null,
            "min_width": null,
            "border": null,
            "align_items": null,
            "bottom": null,
            "_model_module": "@jupyter-widgets/base",
            "top": null,
            "grid_column": null,
            "overflow_y": null,
            "overflow_x": null,
            "grid_auto_flow": null,
            "grid_area": null,
            "grid_template_columns": null,
            "flex": null,
            "_model_name": "LayoutModel",
            "justify_items": null,
            "grid_row": null,
            "max_height": null,
            "align_content": null,
            "visibility": null,
            "align_self": null,
            "height": null,
            "min_height": null,
            "padding": null,
            "grid_auto_rows": null,
            "grid_gap": null,
            "max_width": null,
            "order": null,
            "_view_module_version": "1.2.0",
            "grid_template_areas": null,
            "object_position": null,
            "object_fit": null,
            "grid_auto_columns": null,
            "margin": null,
            "display": null,
            "left": null
          }
        },
        "926bab0b703c405ba23b433be134753f": {
          "model_module": "@jupyter-widgets/controls",
          "model_name": "DescriptionStyleModel",
          "state": {
            "_view_name": "StyleView",
            "_model_name": "DescriptionStyleModel",
            "description_width": "",
            "_view_module": "@jupyter-widgets/base",
            "_model_module_version": "1.5.0",
            "_view_count": null,
            "_view_module_version": "1.2.0",
            "_model_module": "@jupyter-widgets/controls"
          }
        },
        "b14bf659096d42cfa5085a0a41c7ba3d": {
          "model_module": "@jupyter-widgets/base",
          "model_name": "LayoutModel",
          "state": {
            "_view_name": "LayoutView",
            "grid_template_rows": null,
            "right": null,
            "justify_content": null,
            "_view_module": "@jupyter-widgets/base",
            "overflow": null,
            "_model_module_version": "1.2.0",
            "_view_count": null,
            "flex_flow": null,
            "width": null,
            "min_width": null,
            "border": null,
            "align_items": null,
            "bottom": null,
            "_model_module": "@jupyter-widgets/base",
            "top": null,
            "grid_column": null,
            "overflow_y": null,
            "overflow_x": null,
            "grid_auto_flow": null,
            "grid_area": null,
            "grid_template_columns": null,
            "flex": null,
            "_model_name": "LayoutModel",
            "justify_items": null,
            "grid_row": null,
            "max_height": null,
            "align_content": null,
            "visibility": null,
            "align_self": null,
            "height": null,
            "min_height": null,
            "padding": null,
            "grid_auto_rows": null,
            "grid_gap": null,
            "max_width": null,
            "order": null,
            "_view_module_version": "1.2.0",
            "grid_template_areas": null,
            "object_position": null,
            "object_fit": null,
            "grid_auto_columns": null,
            "margin": null,
            "display": null,
            "left": null
          }
        }
      }
    }
  },
  "cells": [
    {
      "cell_type": "markdown",
      "metadata": {
        "id": "view-in-github",
        "colab_type": "text"
      },
      "source": [
        "<a href=\"https://colab.research.google.com/github/analystanand/Deep-Learning/blob/master/resnet18.ipynb\" target=\"_parent\"><img src=\"https://colab.research.google.com/assets/colab-badge.svg\" alt=\"Open In Colab\"/></a>"
      ]
    },
    {
      "cell_type": "code",
      "metadata": {
        "id": "TFV7Cv-A6xro",
        "colab_type": "code",
        "colab": {}
      },
      "source": [
        "import matplotlib.pyplot as plt\n",
        "import torch\n",
        "import torch.nn as nn\n",
        "import torch.nn.functional as F\n",
        "import torch.optim as optim\n",
        "import torchvision\n",
        "from torchvision import transforms\n",
        "import time\n",
        "from tqdm import tqdm\n",
        "from tqdm import tqdm_notebook\n",
        "%matplotlib inline"
      ],
      "execution_count": 0,
      "outputs": []
    },
    {
      "cell_type": "code",
      "metadata": {
        "id": "SHrJ6Erk67Cl",
        "colab_type": "code",
        "colab": {}
      },
      "source": [
        "class NormalBlock(nn.Module):\n",
        "    vol_expansion = 1\n",
        "\n",
        "    def __init__(self, in_channels, out_channels, stride=1):\n",
        "        super(NormalBlock, self).__init__()\n",
        "        self.conv_layer1 = nn.Conv2d(in_channels, out_channels, kernel_size=3, stride=stride, padding=1, bias=False)\n",
        "        self.batch_norm_1 = nn.BatchNorm2d(out_channels)\n",
        "        self.conv_layer2 = nn.Conv2d(out_channels, out_channels, kernel_size=3, stride=1, padding=1, bias=False)\n",
        "        self.batch_norm_2 = nn.BatchNorm2d(out_channels)\n",
        "\n",
        "        self.skip_layer = nn.Sequential()\n",
        "        if stride != 1 or in_channels != self.vol_expansion*out_channels:\n",
        "            self.skip_layer = nn.Sequential(\n",
        "                nn.Conv2d(in_channels, self.vol_expansion * out_channels, kernel_size=1, stride=stride, bias=False),\n",
        "                nn.BatchNorm2d(self.vol_expansion * out_channels)\n",
        "            )\n",
        "\n",
        "    def forward(self, x):\n",
        "        out = F.relu(self.batch_norm_1(self.conv_layer1(x)))\n",
        "        out = self.batch_norm_2(self.conv_layer2(out))\n",
        "        out += self.skip_layer(x)\n",
        "        out = F.relu(out)\n",
        "        return out"
      ],
      "execution_count": 0,
      "outputs": []
    },
    {
      "cell_type": "code",
      "metadata": {
        "id": "Yzv8xjDm69Js",
        "colab_type": "code",
        "colab": {}
      },
      "source": [
        "class BottleneckBlock(nn.Module):\n",
        "    vol_expansion = 4\n",
        "\n",
        "    def __init__(self, in_channels, out_channels, stride=1):\n",
        "        super(BottleneckBlock, self).__init__()\n",
        "\n",
        "        self.conv_layer1 = nn.Conv2d(in_channels, out_channels, kernel_size=1, bias=False)\n",
        "        self.batch_norm_1 = nn.BatchNorm2d(out_channels)\n",
        "\n",
        "        self.conv_layer2 = nn.Conv2d(out_channels, out_channels, kernel_size=3, stride=stride, padding=1, bias=False)\n",
        "        self.batch_norm_2 = nn.BatchNorm2d(out_channels)\n",
        "\n",
        "        self.conv_layer3 = nn.Conv2d(out_channels, self.vol_expansion * out_channels, kernel_size=1, bias=False)\n",
        "        self.batch_norm_3 = nn.BatchNorm2d(self.vol_expansion * out_channels)\n",
        "\n",
        "        self.skip_layers = nn.Sequential()\n",
        "        if stride != 1 or in_channels != self.vol_expansion * out_channels:\n",
        "            self.skip_layers = nn.Sequential(\n",
        "                nn.Conv2d(in_channels, self.vol_expansion * out_channels, kernel_size=1, stride=stride, bias=False),\n",
        "                nn.BatchNorm2d(self.vol_expansion * out_channels)\n",
        "            )\n",
        "\n",
        "    def forward(self, x):\n",
        "        out = F.relu(self.batch_norm_1(self.conv_layer1(x)))\n",
        "        out = F.relu(self.batch_norm_2(self.conv_layer2(out)))\n",
        "        out = self.batch_norm_3(self.conv_layer3(out))\n",
        "        out += self.skip_layers(x)\n",
        "        out = F.relu(out)\n",
        "        return out"
      ],
      "execution_count": 0,
      "outputs": []
    },
    {
      "cell_type": "code",
      "metadata": {
        "id": "56bWBvOD6_dc",
        "colab_type": "code",
        "colab": {}
      },
      "source": [
        "class ResNet(nn.Module):\n",
        "    def __init__(self, block, num_blocks, num_classes=10):\n",
        "        super(ResNet, self).__init__()\n",
        "        self.in_channels = 64\n",
        "\n",
        "        self.conv_layer1 = nn.Conv2d(3, 64, kernel_size=3, stride=1, padding=1, bias=False)\n",
        "        self.bn1 = nn.BatchNorm2d(64)\n",
        "        self.layer1 = self._make_layer(block, 64, num_blocks[0], stride=1)\n",
        "        self.layer2 = self._make_layer(block, 128, num_blocks[1], stride=2)\n",
        "        self.layer3 = self._make_layer(block, 256, num_blocks[2], stride=2)\n",
        "        self.layer4 = self._make_layer(block, 512, num_blocks[3], stride=2)\n",
        "        self.linear = nn.Linear(512*block.vol_expansion, num_classes)\n",
        "\n",
        "    def _make_layer(self, block, out_channels, num_blocks, stride):\n",
        "        strides = [stride] + [1]*(num_blocks-1)\n",
        "        layers = []\n",
        "        for stride in strides:\n",
        "            layers.append(block(self.in_channels, out_channels, stride))\n",
        "            self.in_channels = out_channels * block.vol_expansion\n",
        "        return nn.Sequential(*layers)\n",
        "\n",
        "    def forward(self, x):\n",
        "        out = F.relu(self.bn1(self.conv_layer1(x)))\n",
        "        out = self.layer1(out)\n",
        "        out = self.layer2(out)\n",
        "        out = self.layer3(out)\n",
        "        out = self.layer4(out)\n",
        "        out = F.avg_pool2d(out, 4)\n",
        "        out = out.view(out.size(0), -1)\n",
        "        out = self.linear(out)\n",
        "        return out"
      ],
      "execution_count": 0,
      "outputs": []
    },
    {
      "cell_type": "code",
      "metadata": {
        "id": "qP73Ah6W7B6U",
        "colab_type": "code",
        "colab": {}
      },
      "source": [
        "def ResNet18():\n",
        "    return ResNet(NormalBlock, [2,2,2,2])\n",
        "\n",
        "def ResNet34():\n",
        "    return ResNet(NormalBlock, [3,4,6,3])\n",
        "\n",
        "def ResNet50():\n",
        "    return ResNet(BottleneckBlock, [3,4,6,3])\n",
        "\n",
        "def ResNet101():\n",
        "    return ResNet(BottleneckBlock, [3,4,23,3])\n",
        "\n",
        "def ResNet152():\n",
        "    return ResNet(BottleneckBlock, [3,8,36,3])\n"
      ],
      "execution_count": 0,
      "outputs": []
    },
    {
      "cell_type": "code",
      "metadata": {
        "id": "J2K9QKC27Gns",
        "colab_type": "code",
        "colab": {
          "base_uri": "https://localhost:8080/",
          "height": 82,
          "referenced_widgets": [
            "fe632f00390a4cbfa97959354f0197f6",
            "369e193bf1b549898b55d17fccf01ead",
            "8206743b6ff848858369afbcb40f12b9",
            "364a9babac6e478f99a24bfc1125ac34",
            "7233fa6215b145a0a6d6223992eb2716",
            "19ff5573217342cd8c6daf7f01db735b",
            "926bab0b703c405ba23b433be134753f",
            "b14bf659096d42cfa5085a0a41c7ba3d"
          ]
        },
        "outputId": "3ea00bb1-3ea3-40f3-cb2a-887953ed27b0"
      },
      "source": [
        "# training data transformation\n",
        "transform_train = transforms.Compose([\n",
        "    transforms.RandomCrop(32, padding=4),\n",
        "    transforms.RandomHorizontalFlip(),\n",
        "    transforms.RandomVerticalFlip(),\n",
        "    transforms.ToTensor(),\n",
        "    transforms.Normalize((0.4914, 0.4821, 0.4465), (0.2470,0.2435,0.2616))])\n",
        "\n",
        "# training data loader\n",
        "train_set = torchvision.datasets.CIFAR10(root='./data',\n",
        "                                         train=True,\n",
        "                                         download=True,\n",
        "                                         transform=transform_train)\n",
        "\n",
        "train_loader = torch.utils.data.DataLoader(dataset=train_set,\n",
        "                                           batch_size=32,\n",
        "                                           shuffle=True,\n",
        "                                           num_workers=2)\n"
      ],
      "execution_count": 6,
      "outputs": [
        {
          "output_type": "stream",
          "text": [
            "Downloading https://www.cs.toronto.edu/~kriz/cifar-10-python.tar.gz to ./data/cifar-10-python.tar.gz\n"
          ],
          "name": "stdout"
        },
        {
          "output_type": "display_data",
          "data": {
            "application/vnd.jupyter.widget-view+json": {
              "model_id": "fe632f00390a4cbfa97959354f0197f6",
              "version_minor": 0,
              "version_major": 2
            },
            "text/plain": [
              "HBox(children=(IntProgress(value=1, bar_style='info', max=1), HTML(value='')))"
            ]
          },
          "metadata": {
            "tags": []
          }
        },
        {
          "output_type": "stream",
          "text": [
            "Extracting ./data/cifar-10-python.tar.gz to ./data\n"
          ],
          "name": "stdout"
        }
      ]
    },
    {
      "cell_type": "code",
      "metadata": {
        "id": "MNmuZhjR7XaD",
        "colab_type": "code",
        "colab": {
          "base_uri": "https://localhost:8080/",
          "height": 33
        },
        "outputId": "4dd089d6-007b-456a-978a-5ad59b9f3240"
      },
      "source": [
        "# test data transformation\n",
        "transform_test = transforms.Compose([transforms.ToTensor(),\n",
        "                                     transforms.Normalize((0.4914, 0.4821, 0.4465), (0.2470, 0.2435,0.2616))])\n",
        "# test data loader\n",
        "testset = torchvision.datasets.CIFAR10(root='./data', train=False,\n",
        "                                       download=True,\n",
        "                                       transform=transform_test)\n",
        "\n",
        "test_loader = torch.utils.data.DataLoader(dataset=testset,\n",
        "                                          batch_size=32,\n",
        "                                          shuffle=False,\n",
        "                                          num_workers=2)\n"
      ],
      "execution_count": 7,
      "outputs": [
        {
          "output_type": "stream",
          "text": [
            "Files already downloaded and verified\n"
          ],
          "name": "stdout"
        }
      ]
    },
    {
      "cell_type": "code",
      "metadata": {
        "id": "F21msuOk7dYV",
        "colab_type": "code",
        "colab": {}
      },
      "source": [
        "\n",
        "def train_model(model, loss_function, optimizer, data_loader):\n",
        "    # set model to training mode\n",
        "    model.train()\n",
        "\n",
        "    current_loss = 0.0\n",
        "    current_acc = 0\n",
        "\n",
        "    # iterate over the training data\n",
        "\n",
        "    for i, (inputs, labels) in enumerate(data_loader):\n",
        "        # send the input/labels to the GPU\n",
        "        inputs = inputs.to(device)\n",
        "        labels = labels.to(device)\n",
        "\n",
        "        # zero the parameter gradients\n",
        "        optimizer.zero_grad()\n",
        "\n",
        "        with torch.set_grad_enabled(True):\n",
        "            # forward\n",
        "            outputs = model(inputs)\n",
        "            _, predictions = torch.max(outputs, 1)\n",
        "            loss = loss_function(outputs, labels)\n",
        "\n",
        "            # backward\n",
        "            loss.backward()\n",
        "            optimizer.step()\n",
        "\n",
        "        # statistics\n",
        "        current_loss += loss.item() * inputs.size(0)\n",
        "        current_acc += torch.sum(predictions == labels.data)\n",
        "\n",
        "\n",
        "    total_loss = current_loss / len(data_loader.dataset)\n",
        "    total_acc = current_acc.double() / len(data_loader.dataset)\n",
        "\n",
        "    print('Train Loss: {:.4f}; Accuracy: {:.4f}'.format(total_loss,\n",
        "    total_acc))\n",
        "    return total_loss, total_acc"
      ],
      "execution_count": 0,
      "outputs": []
    },
    {
      "cell_type": "code",
      "metadata": {
        "id": "m9hLMji17eDs",
        "colab_type": "code",
        "colab": {}
      },
      "source": [
        "def test_model(model, loss_function, data_loader):\n",
        "    # set model in evaluation mode\n",
        "    model.eval()\n",
        "\n",
        "    current_loss = 0.0\n",
        "    current_acc = 0\n",
        "\n",
        "    # iterate over  the validation data\n",
        "    for i, (inputs, labels) in enumerate(data_loader):\n",
        "        # send the input/labels to the GPU\n",
        "        inputs = inputs.to(device)\n",
        "        labels = labels.to(device)\n",
        "\n",
        "        # forward\n",
        "        with torch.set_grad_enabled(False):\n",
        "            outputs = model(inputs)\n",
        "            _, predictions = torch.max(outputs, 1)\n",
        "            loss = loss_function(outputs, labels)\n",
        "\n",
        "        # statistics\n",
        "        current_loss += loss.item() * inputs.size(0)\n",
        "        current_acc += torch.sum(predictions == labels.data)\n",
        "\n",
        "    total_loss = current_loss / len(data_loader.dataset)\n",
        "    total_acc = current_acc.double() / len(data_loader.dataset)\n",
        "\n",
        "    print('Test Loss: {:.4f}; Accuracy: {:.4f}'.format(total_loss,total_acc))\n",
        "\n",
        "    return total_loss, total_acc"
      ],
      "execution_count": 0,
      "outputs": []
    },
    {
      "cell_type": "code",
      "metadata": {
        "id": "dieZHoVq7hFk",
        "colab_type": "code",
        "colab": {}
      },
      "source": [
        "def plot_accuracy(test_accuracy: list,train_accuracy,model_name,ep):\n",
        "    \"\"\"Plot accuracy\"\"\"\n",
        "    plt.figure()\n",
        "    x =  range(1,ep+1)\n",
        "    plt.plot(x,test_accuracy,color='b',label='Test')\n",
        "    plt.plot(x,train_accuracy,color='r',label='Train')\n",
        "    plt.title(model_name)\n",
        "    # plt.xticks(\n",
        "    #     [i for i in range(0, len(accuracy))],\n",
        "    #     [i + 1 for i in range(0, len(accuracy))])\n",
        "    plt.ylabel('Accuracy')\n",
        "    plt.xlabel('Epoch')\n",
        "    plt.legend()\n",
        "    plt.show()\n",
        "    # plt.savefig('{}.png'.format(model_name))"
      ],
      "execution_count": 0,
      "outputs": []
    },
    {
      "cell_type": "code",
      "metadata": {
        "id": "VrwP9g7h7m0E",
        "colab_type": "code",
        "colab": {
          "base_uri": "https://localhost:8080/",
          "height": 1000
        },
        "outputId": "ded50038-bf71-4cec-b9a5-1b122b14d0b3"
      },
      "source": [
        "if __name__ == '__main__':\n",
        "    modelname_list = ['ResNet18','ResNet34','ResNet50','ResNet101','ResNet152']\n",
        "    models_list = [ResNet18(),ResNet34(),ResNet50(),ResNet101(),ResNet152()]\n",
        "\n",
        "    for i in range(len(models_list[:1])):\n",
        "        start_time = time.time()\n",
        "        name = modelname_list[i]\n",
        "        print(\"Model:\",name)\n",
        "        model = models_list[i]\n",
        "        # select gpu 0, if available# otherwise fallback to cpu\n",
        "        device = torch.device(\"cuda:0\" if torch.cuda.is_available() else \"cpu\")\n",
        "\n",
        "        # transfer the model to the GPU\n",
        "        model = model.to(device)\n",
        "        # loss function\n",
        "        loss_function = nn.CrossEntropyLoss()\n",
        "        # We'll optimize all parameters\n",
        "        optimizer = optim.Adam(model.parameters())\n",
        "\n",
        "        EPOCHS = 30\n",
        "        # with tqdm(total=EPOCHS) as pbar:\n",
        "        test_acc,train_acc = [],[]  # collect accuracy for plotting\n",
        "        for epoch in range(EPOCHS):\n",
        "            print('Epoch {}/{}'.format(epoch + 1, EPOCHS))\n",
        "\n",
        "            train_loss,train_accuracy = train_model(model, loss_function, optimizer, train_loader)\n",
        "            test_loss, test_accuracy = test_model(model, loss_function, test_loader)\n",
        "            train_acc.append(train_accuracy)\n",
        "            test_acc.append(test_accuracy)\n",
        "              # pbar.update(1)\n",
        "        # pbar.close()\n",
        "        # torch.save(model, PATH)\n",
        "        endtime = time.time() - start_time\n",
        "        print(\"Endtime %s seconds\",endtime)\n",
        "        plot_accuracy(test_acc,train_acc,name,EPOCHS)\n"
      ],
      "execution_count": 14,
      "outputs": [
        {
          "output_type": "stream",
          "text": [
            "Model: ResNet18\n",
            "Epoch 1/30\n",
            "Train Loss: 1.6739; Accuracy: 0.3735\n",
            "Test Loss: 1.4822; Accuracy: 0.4637\n",
            "Epoch 2/30\n",
            "Train Loss: 1.2446; Accuracy: 0.5454\n",
            "Test Loss: 1.2761; Accuracy: 0.5518\n",
            "Epoch 3/30\n",
            "Train Loss: 1.0428; Accuracy: 0.6240\n",
            "Test Loss: 1.0084; Accuracy: 0.6437\n",
            "Epoch 4/30\n",
            "Train Loss: 0.9158; Accuracy: 0.6699\n",
            "Test Loss: 0.9045; Accuracy: 0.6822\n",
            "Epoch 5/30\n",
            "Train Loss: 0.8303; Accuracy: 0.7065\n",
            "Test Loss: 0.8530; Accuracy: 0.7004\n",
            "Epoch 6/30\n",
            "Train Loss: 0.7628; Accuracy: 0.7294\n",
            "Test Loss: 0.8875; Accuracy: 0.6982\n",
            "Epoch 7/30\n",
            "Train Loss: 0.6977; Accuracy: 0.7523\n",
            "Test Loss: 0.6663; Accuracy: 0.7651\n",
            "Epoch 8/30\n",
            "Train Loss: 0.6420; Accuracy: 0.7742\n",
            "Test Loss: 0.6509; Accuracy: 0.7746\n",
            "Epoch 9/30\n",
            "Train Loss: 0.5949; Accuracy: 0.7907\n",
            "Test Loss: 0.5951; Accuracy: 0.7909\n",
            "Epoch 10/30\n",
            "Train Loss: 0.5460; Accuracy: 0.8088\n",
            "Test Loss: 0.5791; Accuracy: 0.8007\n",
            "Epoch 11/30\n",
            "Train Loss: 0.5090; Accuracy: 0.8220\n",
            "Test Loss: 0.5482; Accuracy: 0.8145\n",
            "Epoch 12/30\n",
            "Train Loss: 0.4752; Accuracy: 0.8330\n",
            "Test Loss: 0.5205; Accuracy: 0.8230\n",
            "Epoch 13/30\n",
            "Train Loss: 0.4446; Accuracy: 0.8460\n",
            "Test Loss: 0.5444; Accuracy: 0.8181\n",
            "Epoch 14/30\n",
            "Train Loss: 0.4199; Accuracy: 0.8528\n",
            "Test Loss: 0.5075; Accuracy: 0.8322\n",
            "Epoch 15/30\n",
            "Train Loss: 0.3960; Accuracy: 0.8625\n",
            "Test Loss: 0.4604; Accuracy: 0.8434\n",
            "Epoch 16/30\n",
            "Train Loss: 0.3736; Accuracy: 0.8688\n",
            "Test Loss: 0.4767; Accuracy: 0.8396\n",
            "Epoch 17/30\n",
            "Train Loss: 0.3535; Accuracy: 0.8767\n",
            "Test Loss: 0.4219; Accuracy: 0.8593\n",
            "Epoch 18/30\n",
            "Train Loss: 0.3347; Accuracy: 0.8832\n",
            "Test Loss: 0.4101; Accuracy: 0.8637\n",
            "Epoch 19/30\n",
            "Train Loss: 0.3174; Accuracy: 0.8877\n",
            "Test Loss: 0.3886; Accuracy: 0.8717\n",
            "Epoch 20/30\n",
            "Train Loss: 0.3025; Accuracy: 0.8950\n",
            "Test Loss: 0.4066; Accuracy: 0.8658\n",
            "Epoch 21/30\n",
            "Train Loss: 0.2871; Accuracy: 0.9001\n",
            "Test Loss: 0.3890; Accuracy: 0.8738\n",
            "Epoch 22/30\n",
            "Train Loss: 0.2742; Accuracy: 0.9044\n",
            "Test Loss: 0.3937; Accuracy: 0.8710\n",
            "Epoch 23/30\n",
            "Train Loss: 0.2664; Accuracy: 0.9060\n",
            "Test Loss: 0.3518; Accuracy: 0.8840\n",
            "Epoch 24/30\n",
            "Train Loss: 0.2533; Accuracy: 0.9107\n",
            "Test Loss: 0.3851; Accuracy: 0.8794\n",
            "Epoch 25/30\n",
            "Train Loss: 0.2412; Accuracy: 0.9150\n",
            "Test Loss: 0.3694; Accuracy: 0.8820\n",
            "Epoch 26/30\n",
            "Train Loss: 0.2320; Accuracy: 0.9186\n",
            "Test Loss: 0.3761; Accuracy: 0.8855\n",
            "Epoch 27/30\n",
            "Train Loss: 0.2235; Accuracy: 0.9229\n",
            "Test Loss: 0.3374; Accuracy: 0.8893\n",
            "Epoch 28/30\n",
            "Train Loss: 0.2129; Accuracy: 0.9250\n",
            "Test Loss: 0.3617; Accuracy: 0.8870\n",
            "Epoch 29/30\n",
            "Train Loss: 0.2051; Accuracy: 0.9288\n",
            "Test Loss: 0.3625; Accuracy: 0.8868\n",
            "Epoch 30/30\n",
            "Train Loss: 0.1948; Accuracy: 0.9313\n",
            "Test Loss: 0.3663; Accuracy: 0.8878\n",
            "Endtime %s seconds 1686.963339805603\n"
          ],
          "name": "stdout"
        },
        {
          "output_type": "display_data",
          "data": {
            "image/png": "[encoded data removed]",
            "text/plain": [
              "<Figure size 432x288 with 1 Axes>"
            ]
          },
          "metadata": {
            "tags": []
          }
        }
      ]
    },
    {
      "cell_type": "code",
      "metadata": {
        "id": "kV8sNTRA4_sU",
        "colab_type": "code",
        "colab": {}
      },
      "source": [
        ""
      ],
      "execution_count": 0,
      "outputs": []
    }
  ]
}